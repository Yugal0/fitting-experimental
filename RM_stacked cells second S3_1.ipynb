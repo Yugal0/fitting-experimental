{
 "cells": [
  {
   "cell_type": "code",
   "execution_count": 7,
   "metadata": {},
   "outputs": [],
   "source": [
    "%matplotlib ipympl"
   ]
  },
  {
   "cell_type": "code",
   "execution_count": 12,
   "metadata": {},
   "outputs": [],
   "source": [
    "from impedance.preprocessing import readBioLogic\n",
    "from impedance.models.circuits import CustomCircuit\n",
    "import matplotlib.pyplot as plt\n",
    "import numpy as np\n",
    "from models import *"
   ]
  },
  {
   "cell_type": "code",
   "execution_count": 14,
   "metadata": {},
   "outputs": [],
   "source": [
    "f,z=readBioLogic(\"RM_stacked second run S3_1_C03.mpt\")"
   ]
  },
  {
   "cell_type": "code",
   "execution_count": null,
   "metadata": {},
   "outputs": [],
   "source": [
    "fig, ax=plt.subplots()\n",
    "ax.plot(np.real(z),-np.imag(z))\n",
    "ax.set_aspect(\"equal\")\n",
    "# ax.set_xlim(0,1000)\n",
    "# ax.set_ylim(0,3000)"
   ]
  },
  {
   "cell_type": "code",
   "execution_count": 20,
   "metadata": {},
   "outputs": [
    {
     "name": "stdout",
     "output_type": "stream",
     "text": [
      "\n",
      "Circuit string: TLMuni\n",
      "Fit: True\n",
      "\n",
      "Initial guesses:\n",
      "  TLMuni_0 = 1.00e+03 [Ohm]\n",
      "  TLMuni_1 = 1.00e-04 [F]\n",
      "  TLMuni_2 = 1.00e+00 []\n",
      "\n",
      "Fit parameters:\n",
      "  TLMuni_0 = 7.67e+02  (+/- 6.84e+01) [Ohm]\n",
      "  TLMuni_1 = 4.88e-03  (+/- 1.44e-04) [F]\n",
      "  TLMuni_2 = 9.57e-01  (+/- 1.07e-02) []\n",
      "\n"
     ]
    },
    {
     "name": "stderr",
     "output_type": "stream",
     "text": [
      "e:\\code\\github.com\\yugal0\\fitting-experimental\\models.py:13: RuntimeWarning: overflow encountered in tanh\n",
      "  Z= 2*np.sqrt(R1/((omega*1j)**alpha*Q))*(1/(np.tanh(np.sqrt((1j*omega)**alpha*R1*Q))))\n"
     ]
    }
   ],
   "source": [
    "R1=1000\n",
    "Q=1e-4\n",
    "alpha=1\n",
    "c=CustomCircuit(initial_guess=[R1,Q,alpha],circuit=\"TLMuni\")\n",
    "\n",
    "c.fit(impedance=z,frequencies=f)"
   ]
  }
 ],
 "metadata": {
  "kernelspec": {
   "display_name": "Python 3",
   "language": "python",
   "name": "python3"
  },
  "language_info": {
   "codemirror_mode": {
    "name": "ipython",
    "version": 3
   },
   "file_extension": ".py",
   "mimetype": "text/x-python",
   "name": "python",
   "nbconvert_exporter": "python",
   "pygments_lexer": "ipython3",
   "version": "3.10.11"
  }
 },
 "nbformat": 4,
 "nbformat_minor": 2
}

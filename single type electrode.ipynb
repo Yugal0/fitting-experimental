{
 "cells": [
  {
   "cell_type": "code",
   "execution_count": 5,
   "metadata": {},
   "outputs": [],
   "source": [
    "%matplotlib ipympl"
   ]
  },
  {
   "cell_type": "code",
   "execution_count": 6,
   "metadata": {},
   "outputs": [],
   "source": [
    "from impedance.preprocessing import readBioLogic\n",
    "from impedance.models.circuits import CustomCircuit\n",
    "import matplotlib.pyplot as plt\n",
    "import numpy as np\n",
    "from models import *\n",
    "import mpmath as mp"
   ]
  },
  {
   "cell_type": "code",
   "execution_count": 7,
   "metadata": {},
   "outputs": [
    {
     "name": "stdout",
     "output_type": "stream",
     "text": [
      "['RM_stacked second run S3_1_C03.mpt', 'RM_stacked second run S3_2_C04.mpt', 'RM_stacked second run D12_1_C03.mpt', 'RM_stacked second run D12_2_C04.mpt']\n"
     ]
    }
   ],
   "source": [
    "name_prefix=\"RM_stacked second run\"\n",
    "list_of_name_sufix=[\"S3_1_C03.mpt\",\"S3_2_C04.mpt\",\"D12_1_C03.mpt\",\"D12_2_C04.mpt\"]\n",
    "\n",
    "list_of_fnames=[]\n",
    "for sfx in list_of_name_sufix:\n",
    "    list_of_fnames.append(f\"{name_prefix} {sfx}\")\n",
    "print(list_of_fnames)"
   ]
  },
  {
   "cell_type": "code",
   "execution_count": 9,
   "metadata": {},
   "outputs": [
    {
     "name": "stdout",
     "output_type": "stream",
     "text": [
      "\n",
      "Circuit string: R_1-TLMuni\n",
      "Fit: False\n",
      "\n",
      "Initial guesses:\n",
      "    R_1 = 1.61e+02 [Ohm]\n",
      "  TLMuni_0 = 4.99e+02 [Ohm]\n",
      "  TLMuni_1 = 4.89e-03 [F]\n",
      "  TLMuni_2 = 9.59e-01 []\n",
      "\n",
      "\n",
      "Circuit string: R_1-TLMuni\n",
      "Fit: False\n",
      "\n",
      "Initial guesses:\n",
      "    R_1 = 1.46e+02 [Ohm]\n",
      "  TLMuni_0 = 5.11e+02 [Ohm]\n",
      "  TLMuni_1 = 4.94e-03 [F]\n",
      "  TLMuni_2 = 9.62e-01 []\n",
      "\n",
      "\n",
      "Circuit string: R_1-TLMuni\n",
      "Fit: False\n",
      "\n",
      "Initial guesses:\n",
      "    R_1 = 1.32e+02 [Ohm]\n",
      "  TLMuni_0 = 4.62e+02 [Ohm]\n",
      "  TLMuni_1 = 2.29e-03 [F]\n",
      "  TLMuni_2 = 9.53e-01 []\n",
      "\n",
      "\n",
      "Circuit string: R_1-TLMuni\n",
      "Fit: False\n",
      "\n",
      "Initial guesses:\n",
      "    R_1 = 1.31e+02 [Ohm]\n",
      "  TLMuni_0 = 4.89e+02 [Ohm]\n",
      "  TLMuni_1 = 2.30e-03 [F]\n",
      "  TLMuni_2 = 9.56e-01 []\n",
      "\n"
     ]
    }
   ],
   "source": [
    "for fname in list_of_fnames:\n",
    "    f,z=readBioLogic(fname)\n",
    "    Rsep=100\n",
    "    R1=1000\n",
    "    Q=1e-4\n",
    "    alpha=1\n",
    "    c=CustomCircuit(initial_guess=[Rsep,R1,Q,alpha],circuit=\"R_1-TLMuni\")\n",
    "\n",
    "\n",
    "    # wt=np.concatenate((np.real(z),np.imag(z)))\n",
    "    # print(\"hstack\",wt_hstack)\n",
    "\n",
    "\n",
    "    mp.dps=300\n",
    "    c.fit(impedance=z,frequencies=f,bounds=((0,0,0,0.9),(np.inf,np.inf,np.inf,1)))\n",
    "\n",
    "    c_fitted=CustomCircuit(initial_guess=[c.parameters_[0],c.parameters_[1],c.parameters_[2],c.parameters_[3]],circuit=\"R_1-TLMuni\")\n",
    "    z_fitted=c_fitted.predict(frequencies=f)\n",
    "    print(c_fitted)"
   ]
  }
 ],
 "metadata": {
  "kernelspec": {
   "display_name": "Python 3",
   "language": "python",
   "name": "python3"
  },
  "language_info": {
   "codemirror_mode": {
    "name": "ipython",
    "version": 3
   },
   "file_extension": ".py",
   "mimetype": "text/x-python",
   "name": "python",
   "nbconvert_exporter": "python",
   "pygments_lexer": "ipython3",
   "version": "3.10.11"
  }
 },
 "nbformat": 4,
 "nbformat_minor": 2
}

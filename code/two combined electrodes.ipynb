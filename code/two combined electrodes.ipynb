{
 "cells": [
  {
   "cell_type": "code",
   "execution_count": 4,
   "metadata": {},
   "outputs": [],
   "source": [
    "%matplotlib ipympl"
   ]
  },
  {
   "cell_type": "code",
   "execution_count": 5,
   "metadata": {},
   "outputs": [],
   "source": [
    "from impedance.preprocessing import readBioLogic\n",
    "from impedance.models.circuits import CustomCircuit\n",
    "import matplotlib.pyplot as plt\n",
    "import numpy as np\n",
    "from models import *\n",
    "import mpmath as mp\n",
    "import os"
   ]
  },
  {
   "cell_type": "code",
   "execution_count": 6,
   "metadata": {},
   "outputs": [
    {
     "name": "stdout",
     "output_type": "stream",
     "text": [
      "['RM_stacked second run DS_3+12_1_C05.mpt', 'RM_stacked second run DS_3+12_2_C06.mpt', 'RM_stacked second run DS_12+3_1_C07.mpt', 'RM_stacked second run DS_12+3_2_C08.mpt']\n"
     ]
    }
   ],
   "source": [
    "#ALL THE FILES TO BE SEEN\n",
    "\n",
    "name_prefix=\"RM_stacked second run\"\n",
    "list_of_name_sufix=[\"DS_3+12_1_C05.mpt\",\"DS_3+12_2_C06.mpt\",\"DS_12+3_1_C07.mpt\",\"DS_12+3_2_C08.mpt\"]\n",
    "\n",
    "list_of_fnames=[]\n",
    "for sfx in list_of_name_sufix:\n",
    "    list_of_fnames.append(f\"{name_prefix} {sfx}\")\n",
    "print(list_of_fnames)"
   ]
  },
  {
   "cell_type": "code",
   "execution_count": 14,
   "metadata": {},
   "outputs": [
    {
     "name": "stderr",
     "output_type": "stream",
     "text": [
      "e:\\code\\github.com\\yugal0\\fitting-experimental\\code\\models.py:27: RuntimeWarning: overflow encountered in tanh\n",
      "  C1=1/np.tanh(delta1*S1)\n",
      "e:\\code\\github.com\\yugal0\\fitting-experimental\\code\\models.py:28: RuntimeWarning: overflow encountered in tanh\n",
      "  C2=1/np.tanh(delta2*S2)\n"
     ]
    },
    {
     "name": "stdout",
     "output_type": "stream",
     "text": [
      "\n",
      "Circuit string: R_1-TLMtwo\n",
      "Fit: True\n",
      "\n",
      "Initial guesses:\n",
      "    R_1 = 1.00e+02 [Ohm]\n",
      "  TLMtwo_0 = 1.00e+03 [Ohm]\n",
      "  TLMtwo_1 = 1.00e-01 [Ohm F]\n",
      "  TLMtwo_2 = 5.00e-02 [Ohm F]\n",
      "  TLMtwo_3 = 4.00e-01 []\n",
      "  TLMtwo_4 = 1.00e+00 []\n",
      "\n",
      "Fit parameters:\n",
      "    R_1 = 1.60e+02  (+/- 2.13e-01) [Ohm]\n",
      "  TLMtwo_0 = 6.76e+02  (+/- 1.34e+00) [Ohm]\n",
      "  TLMtwo_1 = 4.30e+00  (+/- 1.00e-02) [Ohm F]\n",
      "  TLMtwo_2 = 1.39e+02  (+/- 9.60e+01) [Ohm F]\n",
      "  TLMtwo_3 = 9.09e-01  (+/- 2.20e-02) []\n",
      "  TLMtwo_4 = 9.70e-01  (+/- 1.91e-04) []\n",
      "\n",
      "\n",
      "Circuit string: R_1-TLMtwo\n",
      "Fit: True\n",
      "\n",
      "Initial guesses:\n",
      "    R_1 = 1.00e+02 [Ohm]\n",
      "  TLMtwo_0 = 1.00e+03 [Ohm]\n",
      "  TLMtwo_1 = 1.00e-01 [Ohm F]\n",
      "  TLMtwo_2 = 5.00e-02 [Ohm F]\n",
      "  TLMtwo_3 = 4.00e-01 []\n",
      "  TLMtwo_4 = 1.00e+00 []\n",
      "\n",
      "Fit parameters:\n",
      "    R_1 = 1.74e+02  (+/- 3.49e-01) [Ohm]\n",
      "  TLMtwo_0 = 7.51e+02  (+/- 2.19e+00) [Ohm]\n",
      "  TLMtwo_1 = 4.91e+00  (+/- 1.82e-02) [Ohm F]\n",
      "  TLMtwo_2 = 1.99e+03  (+/- 3.62e+03) [Ohm F]\n",
      "  TLMtwo_3 = 9.69e-01  (+/- 1.87e-02) []\n",
      "  TLMtwo_4 = 9.72e-01  (+/- 3.68e-04) []\n",
      "\n",
      "\n",
      "Circuit string: R_1-TLMtwo\n",
      "Fit: True\n",
      "\n",
      "Initial guesses:\n",
      "    R_1 = 1.00e+02 [Ohm]\n",
      "  TLMtwo_0 = 1.00e+03 [Ohm]\n",
      "  TLMtwo_1 = 1.00e-01 [Ohm F]\n",
      "  TLMtwo_2 = 5.00e-02 [Ohm F]\n",
      "  TLMtwo_3 = 4.00e-01 []\n",
      "  TLMtwo_4 = 1.00e+00 []\n",
      "\n",
      "Fit parameters:\n",
      "    R_1 = 1.47e+02  (+/- 6.33e-01) [Ohm]\n",
      "  TLMtwo_0 = 1.27e+03  (+/- 1.03e+01) [Ohm]\n",
      "  TLMtwo_1 = 7.97e+00  (+/- 7.16e-02) [Ohm F]\n",
      "  TLMtwo_2 = 4.28e+00  (+/- 1.51e-01) [Ohm F]\n",
      "  TLMtwo_3 = 2.48e-01  (+/- 1.25e-02) []\n",
      "  TLMtwo_4 = 9.66e-01  (+/- 5.84e-04) []\n",
      "\n",
      "\n",
      "Circuit string: R_1-TLMtwo\n",
      "Fit: True\n",
      "\n",
      "Initial guesses:\n",
      "    R_1 = 1.00e+02 [Ohm]\n",
      "  TLMtwo_0 = 1.00e+03 [Ohm]\n",
      "  TLMtwo_1 = 1.00e-01 [Ohm F]\n",
      "  TLMtwo_2 = 5.00e-02 [Ohm F]\n",
      "  TLMtwo_3 = 4.00e-01 []\n",
      "  TLMtwo_4 = 1.00e+00 []\n",
      "\n",
      "Fit parameters:\n",
      "    R_1 = 1.36e+02  (+/- 4.58e-01) [Ohm]\n",
      "  TLMtwo_0 = 1.30e+03  (+/- 8.58e+00) [Ohm]\n",
      "  TLMtwo_1 = 8.33e+00  (+/- 6.00e-02) [Ohm F]\n",
      "  TLMtwo_2 = 4.66e+00  (+/- 7.30e-02) [Ohm F]\n",
      "  TLMtwo_3 = 1.97e-01  (+/- 6.68e-03) []\n",
      "  TLMtwo_4 = 9.70e-01  (+/- 4.16e-04) []\n",
      "\n"
     ]
    }
   ],
   "source": [
    "folder_path=os.path.join(\"..\",\"exp data\",\"two combined\")\n",
    "for file_name in os.listdir(folder_path):\n",
    "    file_path=os.path.join(folder_path,file_name)\n",
    "    f,z=readBioLogic(file_path)\n",
    "    \n",
    "    Rsep=100\n",
    "    R1=1000\n",
    "    R2=500\n",
    "    Q=1e-4\n",
    "    delta=0.4\n",
    "    alpha=1\n",
    "    c=CustomCircuit(initial_guess=[Rsep,R1,R1*Q,R2*Q,delta,alpha],circuit=\"R_1-TLMtwo\")\n",
    "\n",
    "\n",
    "    # wt=np.concatenate((np.real(z),np.imag(z)))\n",
    "    # print(\"hstack\",wt_hstack)\n",
    "\n",
    "\n",
    "    mp.dps=300\n",
    "    c.fit(impedance=z,frequencies=f,bounds=((0,0,0,0,0,0.9),(np.inf,np.inf,np.inf,np.inf,1,1)))\n",
    "    \n",
    "    z_fitted=c.predict(frequencies=f)\n",
    "    print(c)"
   ]
  }
 ],
 "metadata": {
  "kernelspec": {
   "display_name": "Python 3",
   "language": "python",
   "name": "python3"
  },
  "language_info": {
   "codemirror_mode": {
    "name": "ipython",
    "version": 3
   },
   "file_extension": ".py",
   "mimetype": "text/x-python",
   "name": "python",
   "nbconvert_exporter": "python",
   "pygments_lexer": "ipython3",
   "version": "3.10.11"
  }
 },
 "nbformat": 4,
 "nbformat_minor": 2
}

{
 "cells": [
  {
   "cell_type": "code",
   "execution_count": 4,
   "metadata": {},
   "outputs": [],
   "source": [
    "%matplotlib ipympl"
   ]
  },
  {
   "cell_type": "code",
   "execution_count": 5,
   "metadata": {},
   "outputs": [],
   "source": [
    "from impedance.preprocessing import readBioLogic\n",
    "from impedance.models.circuits import CustomCircuit\n",
    "import matplotlib.pyplot as plt\n",
    "import numpy as np\n",
    "from models import *\n",
    "import mpmath as mp\n",
    "import os"
   ]
  },
  {
   "cell_type": "code",
   "execution_count": 6,
   "metadata": {},
   "outputs": [
    {
     "name": "stdout",
     "output_type": "stream",
     "text": [
      "['RM_stacked second run DS_3+12_1_C05.mpt', 'RM_stacked second run DS_3+12_2_C06.mpt', 'RM_stacked second run DS_12+3_1_C07.mpt', 'RM_stacked second run DS_12+3_2_C08.mpt']\n"
     ]
    }
   ],
   "source": [
    "#ALL THE FILES TO BE SEEN\n",
    "\n",
    "name_prefix=\"RM_stacked second run\"\n",
    "list_of_name_sufix=[\"DS_3+12_1_C05.mpt\",\"DS_3+12_2_C06.mpt\",\"DS_12+3_1_C07.mpt\",\"DS_12+3_2_C08.mpt\"]\n",
    "\n",
    "list_of_fnames=[]\n",
    "for sfx in list_of_name_sufix:\n",
    "    list_of_fnames.append(f\"{name_prefix} {sfx}\")\n",
    "print(list_of_fnames)"
   ]
  },
  {
   "cell_type": "code",
   "execution_count": 7,
   "metadata": {},
   "outputs": [
    {
     "name": "stdout",
     "output_type": "stream",
     "text": [
      "exp data\\two combined\\RM_stacked second run DS_3+12_1_C05.mpt\n",
      "\n",
      "Circuit string: R_1-TLMuni\n",
      "Fit: True\n",
      "\n",
      "Initial guesses:\n",
      "    R_1 = 1.00e+02 [Ohm]\n",
      "  TLMuni_0 = 1.00e+03 [Ohm]\n",
      "  TLMuni_1 = 1.00e-04 [F]\n",
      "  TLMuni_2 = 1.00e+00 []\n",
      "\n",
      "Fit parameters:\n",
      "    R_1 = 1.58e+02  (+/- 2.49e+00) [Ohm]\n",
      "  TLMuni_0 = 1.04e+03  (+/- 1.50e+01) [Ohm]\n",
      "  TLMuni_1 = 6.35e-03  (+/- 4.66e-05) [F]\n",
      "  TLMuni_2 = 9.68e-01  (+/- 2.61e-03) []\n",
      "\n",
      "exp data\\two combined\\RM_stacked second run DS_3+12_2_C06.mpt\n",
      "\n",
      "Circuit string: R_1-TLMuni\n",
      "Fit: True\n",
      "\n",
      "Initial guesses:\n",
      "    R_1 = 1.00e+02 [Ohm]\n",
      "  TLMuni_0 = 1.00e+03 [Ohm]\n",
      "  TLMuni_1 = 1.00e-04 [F]\n",
      "  TLMuni_2 = 1.00e+00 []\n",
      "\n",
      "Fit parameters:\n",
      "    R_1 = 1.48e+02  (+/- 2.55e+00) [Ohm]\n",
      "  TLMuni_0 = 1.02e+03  (+/- 1.52e+01) [Ohm]\n",
      "  TLMuni_1 = 6.48e-03  (+/- 4.89e-05) [F]\n",
      "  TLMuni_2 = 9.72e-01  (+/- 2.69e-03) []\n",
      "\n",
      "exp data\\two combined\\RM_stacked second run DS_12+3_1_C07.mpt\n",
      "\n",
      "Circuit string: R_1-TLMuni\n",
      "Fit: True\n",
      "\n",
      "Initial guesses:\n",
      "    R_1 = 1.00e+02 [Ohm]\n",
      "  TLMuni_0 = 1.00e+03 [Ohm]\n",
      "  TLMuni_1 = 1.00e-04 [F]\n",
      "  TLMuni_2 = 1.00e+00 []\n",
      "\n",
      "Fit parameters:\n",
      "    R_1 = 1.59e+02  (+/- 3.33e-01) [Ohm]\n",
      "  TLMuni_0 = 6.83e+02  (+/- 1.59e+00) [Ohm]\n",
      "  TLMuni_1 = 6.33e-03  (+/- 4.47e-06) [F]\n",
      "  TLMuni_2 = 9.69e-01  (+/- 2.39e-04) []\n",
      "\n",
      "exp data\\two combined\\RM_stacked second run DS_12+3_2_C08.mpt\n",
      "\n",
      "Circuit string: R_1-TLMuni\n",
      "Fit: True\n",
      "\n",
      "Initial guesses:\n",
      "    R_1 = 1.00e+02 [Ohm]\n",
      "  TLMuni_0 = 1.00e+03 [Ohm]\n",
      "  TLMuni_1 = 1.00e-04 [F]\n",
      "  TLMuni_2 = 1.00e+00 []\n",
      "\n",
      "Fit parameters:\n",
      "    R_1 = 1.73e+02  (+/- 3.65e-01) [Ohm]\n",
      "  TLMuni_0 = 7.54e+02  (+/- 1.82e+00) [Ohm]\n",
      "  TLMuni_1 = 6.52e-03  (+/- 5.33e-06) [F]\n",
      "  TLMuni_2 = 9.71e-01  (+/- 2.75e-04) []\n",
      "\n"
     ]
    }
   ],
   "source": [
    "for fname in list_of_fnames:\n",
    "    fpath=os.path.join(\"exp data\",\"two combined\",fname)\n",
    "    print(fpath)\n",
    "    f,z=readBioLogic(f\"../{fpath}\")\n",
    "    \n",
    "    Rsep=100\n",
    "    R1=1000\n",
    "    R2=500\n",
    "    Q=1e-4\n",
    "    alpha=1\n",
    "    c=CustomCircuit(initial_guess=[Rsep,R1,Q,alpha],circuit=\"R_1-TLMuni\")\n",
    "\n",
    "\n",
    "    # wt=np.concatenate((np.real(z),np.imag(z)))\n",
    "    # print(\"hstack\",wt_hstack)\n",
    "\n",
    "\n",
    "    mp.dps=300\n",
    "    c.fit(impedance=z,frequencies=f,bounds=((0,0,0,0.9),(np.inf,np.inf,np.inf,1)))\n",
    "    \n",
    "    z_fitted=c.predict(frequencies=f)\n",
    "    print(c)"
   ]
  }
 ],
 "metadata": {
  "kernelspec": {
   "display_name": "Python 3",
   "language": "python",
   "name": "python3"
  },
  "language_info": {
   "codemirror_mode": {
    "name": "ipython",
    "version": 3
   },
   "file_extension": ".py",
   "mimetype": "text/x-python",
   "name": "python",
   "nbconvert_exporter": "python",
   "pygments_lexer": "ipython3",
   "version": "3.10.11"
  }
 },
 "nbformat": 4,
 "nbformat_minor": 2
}

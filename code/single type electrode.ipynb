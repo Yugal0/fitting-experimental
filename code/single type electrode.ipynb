{
 "cells": [
  {
   "cell_type": "code",
   "execution_count": 11,
   "metadata": {},
   "outputs": [],
   "source": [
    "%matplotlib ipympl"
   ]
  },
  {
   "cell_type": "code",
   "execution_count": 12,
   "metadata": {},
   "outputs": [],
   "source": [
    "from impedance.preprocessing import readBioLogic\n",
    "from impedance.models.circuits import CustomCircuit\n",
    "import matplotlib.pyplot as plt\n",
    "import numpy as np\n",
    "from models import *\n",
    "import mpmath as mp"
   ]
  },
  {
   "cell_type": "code",
   "execution_count": 13,
   "metadata": {},
   "outputs": [
    {
     "name": "stdout",
     "output_type": "stream",
     "text": [
      "['RM_stacked second run S3_1_C03.mpt', 'RM_stacked second run S3_2_C04.mpt', 'RM_stacked second run D12_1_C03.mpt', 'RM_stacked second run D12_2_C04.mpt']\n"
     ]
    }
   ],
   "source": [
    "#ALL THE FILES TO BE SEEN\n",
    "\n",
    "name_prefix=\"RM_stacked second run\"\n",
    "list_of_name_sufix=[\"S3_1_C03.mpt\",\"S3_2_C04.mpt\",\"D12_1_C03.mpt\",\"D12_2_C04.mpt\"]\n",
    "\n",
    "list_of_fnames=[]\n",
    "for sfx in list_of_name_sufix:\n",
    "    list_of_fnames.append(f\"{name_prefix} {sfx}\")\n",
    "print(list_of_fnames)"
   ]
  },
  {
   "cell_type": "code",
   "execution_count": 16,
   "metadata": {},
   "outputs": [
    {
     "ename": "FileNotFoundError",
     "evalue": "[Errno 2] No such file or directory: 'exp data\\\\single type\\\\RM_stacked second run S3_1_C03.mpt'",
     "output_type": "error",
     "traceback": [
      "\u001b[1;31m---------------------------------------------------------------------------\u001b[0m",
      "\u001b[1;31mFileNotFoundError\u001b[0m                         Traceback (most recent call last)",
      "Cell \u001b[1;32mIn[16], line 4\u001b[0m\n\u001b[0;32m      2\u001b[0m \u001b[38;5;28;01mfor\u001b[39;00m fname \u001b[38;5;129;01min\u001b[39;00m list_of_fnames:\n\u001b[0;32m      3\u001b[0m     fpath\u001b[38;5;241m=\u001b[39mos\u001b[38;5;241m.\u001b[39mpath\u001b[38;5;241m.\u001b[39mjoin(\u001b[38;5;124m\"\u001b[39m\u001b[38;5;124mexp data\u001b[39m\u001b[38;5;124m\"\u001b[39m,\u001b[38;5;124m\"\u001b[39m\u001b[38;5;124msingle type\u001b[39m\u001b[38;5;124m\"\u001b[39m,fname)\n\u001b[1;32m----> 4\u001b[0m     f,z\u001b[38;5;241m=\u001b[39m\u001b[43mreadBioLogic\u001b[49m\u001b[43m(\u001b[49m\u001b[43mfpath\u001b[49m\u001b[43m)\u001b[49m\n\u001b[0;32m      5\u001b[0m     Rsep\u001b[38;5;241m=\u001b[39m\u001b[38;5;241m100\u001b[39m\n\u001b[0;32m      6\u001b[0m     R1\u001b[38;5;241m=\u001b[39m\u001b[38;5;241m1000\u001b[39m\n",
      "File \u001b[1;32m~\\AppData\\Local\\Packages\\PythonSoftwareFoundation.Python.3.10_qbz5n2kfra8p0\\LocalCache\\local-packages\\Python310\\site-packages\\impedance\\preprocessing.py:152\u001b[0m, in \u001b[0;36mreadBioLogic\u001b[1;34m(filename)\u001b[0m\n\u001b[0;32m    134\u001b[0m \u001b[38;5;28;01mdef\u001b[39;00m \u001b[38;5;21mreadBioLogic\u001b[39m(filename):\n\u001b[0;32m    135\u001b[0m \u001b[38;5;250m    \u001b[39m\u001b[38;5;124;03m\"\"\" function for reading the .mpt file from Biologic\u001b[39;00m\n\u001b[0;32m    136\u001b[0m \u001b[38;5;124;03m        EC-lab software\u001b[39;00m\n\u001b[0;32m    137\u001b[0m \n\u001b[1;32m   (...)\u001b[0m\n\u001b[0;32m    149\u001b[0m \n\u001b[0;32m    150\u001b[0m \u001b[38;5;124;03m        \"\"\"\u001b[39;00m\n\u001b[1;32m--> 152\u001b[0m     \u001b[38;5;28;01mwith\u001b[39;00m \u001b[38;5;28;43mopen\u001b[39;49m\u001b[43m(\u001b[49m\u001b[43mfilename\u001b[49m\u001b[43m,\u001b[49m\u001b[43m \u001b[49m\u001b[38;5;124;43m'\u001b[39;49m\u001b[38;5;124;43mr\u001b[39;49m\u001b[38;5;124;43m'\u001b[39;49m\u001b[43m,\u001b[49m\u001b[43m \u001b[49m\u001b[43mencoding\u001b[49m\u001b[38;5;241;43m=\u001b[39;49m\u001b[38;5;124;43m\"\u001b[39;49m\u001b[38;5;124;43mlatin-1\u001b[39;49m\u001b[38;5;124;43m\"\u001b[39;49m\u001b[43m)\u001b[49m \u001b[38;5;28;01mas\u001b[39;00m input_file:\n\u001b[0;32m    153\u001b[0m         lines \u001b[38;5;241m=\u001b[39m input_file\u001b[38;5;241m.\u001b[39mreadlines()\n\u001b[0;32m    155\u001b[0m     header_line \u001b[38;5;241m=\u001b[39m lines[\u001b[38;5;241m1\u001b[39m]\n",
      "\u001b[1;31mFileNotFoundError\u001b[0m: [Errno 2] No such file or directory: 'exp data\\\\single type\\\\RM_stacked second run S3_1_C03.mpt'"
     ]
    }
   ],
   "source": [
    "import os\n",
    "for fname in list_of_fnames:\n",
    "    fpath=os.path.join(\"exp data\",\"single type\",fname)\n",
    "    f,z=readBioLogic(fpath)\n",
    "    Rsep=100\n",
    "    R1=1000\n",
    "    Q=1e-4\n",
    "    alpha=1\n",
    "    c=CustomCircuit(initial_guess=[Rsep,R1,Q,alpha],circuit=\"R_1-TLMuni\")\n",
    "\n",
    "\n",
    "    # wt=np.concatenate((np.real(z),np.imag(z)))\n",
    "    # print(\"hstack\",wt_hstack)\n",
    "\n",
    "\n",
    "    mp.dps=300\n",
    "    c.fit(impedance=z,frequencies=f,bounds=((0,0,0,0.9),(np.inf,np.inf,np.inf,1)))\n",
    "    \n",
    "    z_fitted=c.predict(frequencies=f)\n",
    "    print(c)"
   ]
  }
 ],
 "metadata": {
  "kernelspec": {
   "display_name": "Python 3",
   "language": "python",
   "name": "python3"
  },
  "language_info": {
   "codemirror_mode": {
    "name": "ipython",
    "version": 3
   },
   "file_extension": ".py",
   "mimetype": "text/x-python",
   "name": "python",
   "nbconvert_exporter": "python",
   "pygments_lexer": "ipython3",
   "version": "3.10.11"
  }
 },
 "nbformat": 4,
 "nbformat_minor": 2
}

{
 "cells": [
  {
   "cell_type": "code",
   "execution_count": 1,
   "metadata": {},
   "outputs": [],
   "source": [
    "%matplotlib ipympl\n",
    "from impedance.preprocessing import readBioLogic\n",
    "from impedance.models.circuits import CustomCircuit\n",
    "import matplotlib.pyplot as plt\n",
    "import numpy as np\n",
    "from models import *\n",
    "import mpmath as mp\n",
    "import os\n",
    "import csv"
   ]
  },
  {
   "cell_type": "code",
   "execution_count": 2,
   "metadata": {},
   "outputs": [
    {
     "name": "stderr",
     "output_type": "stream",
     "text": [
      "e:\\code\\github.com\\yugal0\\fitting-experimental\\code\\models.py:13: RuntimeWarning: overflow encountered in tanh\n",
      "  Z= 2*np.sqrt(R1/((omega*1j)**alpha*Q))*(1/(np.tanh(np.sqrt((1j*omega)**alpha*R1*Q))))\n"
     ]
    }
   ],
   "source": [
    "folder_path=os.path.join(\"..\",\"exp data\",\"single type\")\n",
    "for file_name in os.listdir(folder_path):\n",
    "    file_path=os.path.join(folder_path,file_name)\n",
    "    f,z=readBioLogic(file_path)\n",
    "\n",
    "    Rsep=100\n",
    "    R1=1000\n",
    "    Q=1e-4\n",
    "    alpha=1\n",
    "    c=CustomCircuit(initial_guess=[Rsep,R1,Q,alpha],circuit=\"R_1-TLMuni\")\n",
    "\n",
    "    mp.dps=300\n",
    "    c.fit(impedance=z,frequencies=f,bounds=((0,0,0,0.9),(np.inf,np.inf,np.inf,1)))\n",
    "    \n",
    "    z_fitted=c.predict(frequencies=f)\n",
    "    data=[\n",
    "        [\"filename\",\"Rsep\",\"R1\",\"Q\",\"α\"], \n",
    "        [f\"{file_name}\",c.parameters_[0],c.parameters_[1],c.parameters_[2],c.parameters_[3]]\n",
    "    ]\n",
    "    fcsv=\"../results/single.csv\"\n",
    "    with open(fcsv,\"a\",newline=\"\",encoding='UTF-8') as csv_file:\n",
    "        writer=csv.writer(csv_file)\n",
    "        writer.writerows(data)"
   ]
  }
 ],
 "metadata": {
  "kernelspec": {
   "display_name": "Python 3",
   "language": "python",
   "name": "python3"
  },
  "language_info": {
   "codemirror_mode": {
    "name": "ipython",
    "version": 3
   },
   "file_extension": ".py",
   "mimetype": "text/x-python",
   "name": "python",
   "nbconvert_exporter": "python",
   "pygments_lexer": "ipython3",
   "version": "3.10.11"
  }
 },
 "nbformat": 4,
 "nbformat_minor": 2
}

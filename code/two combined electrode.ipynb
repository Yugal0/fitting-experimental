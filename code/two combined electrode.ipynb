{
 "cells": [
  {
   "cell_type": "code",
   "execution_count": 18,
   "metadata": {},
   "outputs": [],
   "source": [
    "%matplotlib ipympl\n",
    "from impedance.preprocessing import readBioLogic\n",
    "from impedance.models.circuits import CustomCircuit\n",
    "import matplotlib.pyplot as plt\n",
    "import numpy as np\n",
    "from models import *\n",
    "import mpmath as mp\n",
    "import os\n",
    "import csv"
   ]
  },
  {
   "cell_type": "code",
   "execution_count": 19,
   "metadata": {},
   "outputs": [],
   "source": [
    "@element(num_params=6, units=[\"Ohm\", \"Ohm F\", \"Ohm F\",\"\",\"\",\"\"],overwrite=True)\n",
    "def TLMtwoQvary(p,f):\n",
    "   \n",
    "    omega = 2 * np.pi * np.array(f)\n",
    "    R1,R1R2, R1Q1, R1Q2, delta1, alpha = p[0], p[1], p[2], p[3], p[4], p[5]\n",
    "    delta2=1-delta1\n",
    "    R2=R1R2/R1\n",
    "    R2Q2=R1Q2/R1*R2\n",
    "    k12=R2/R1\n",
    "    wc1=1/(R1Q1)\n",
    "    wc2=1/(R2Q2)\n",
    "    S1=np.sqrt((omega*1j)**alpha/wc1)\n",
    "    S2=np.sqrt((omega*1j)**alpha/wc2)\n",
    "    C1=1/np.tanh(delta1*S1)\n",
    "    C2=1/np.tanh(delta2*S2)\n",
    "\n",
    "    Z=2*(R1)*(C1*C2*S1*k12+S2)/(S1*(C2*S1*k12+C1*S2))\n",
    "\n",
    "    return Z"
   ]
  },
  {
   "cell_type": "code",
   "execution_count": null,
   "metadata": {},
   "outputs": [],
   "source": [
    "folder_path=os.path.join(\"..\",\"exp data\",\"EIS mpt files\",\"two combined\")\n",
    "first_itr=True\n",
    "for file_name in os.listdir(folder_path):\n",
    "    file_path=os.path.join(folder_path,file_name)\n",
    "    f,z=readBioLogic(file_path)\n",
    "    \n",
    "    Rsep=100\n",
    "    R1=2000\n",
    "    R2=5000\n",
    "    Q1=1e-4\n",
    "    Q2=3e-4\n",
    "    delta=0.18\n",
    "    alpha=1\n",
    "    c=CustomCircuit(initial_guess=[Rsep,R1,R1*R2,R1*Q1,R2*Q2,delta,alpha],circuit=\"R_1-TLMtwoQvary\")\n",
    "\n",
    "    mp.dps=500\n",
    "    c.fit(impedance=z,frequencies=f,bounds=((0,0,0,0,0,0.167,0.9),(np.inf,np.inf,np.inf,np.inf,np.inf,0.6,1)))\n",
    "    \n",
    "    z_fitted=c.predict(frequencies=f)\n",
    "    fcsv=\"../fitted parameters/two combined.csv\"\n",
    "    if first_itr:\n",
    "        data=[\n",
    "            [\"filename\",\"Rsep\",\"R1\",\"R1R2\",\"R1Q1\",\"R2Q2\",\"delta\",\"α\"],\n",
    "            [f\"{file_name}\",c.parameters_[0],c.parameters_[1],c.parameters_[2],c.parameters_[3],c.parameters_[4],c.parameters_[5],c.parameters_[6]]\n",
    "        ]\n",
    "        first_itr=False\n",
    "        with open(fcsv,\"w\",newline=\"\",encoding='UTF-8') as csv_file:\n",
    "            writer=csv.writer(csv_file)\n",
    "            writer.writerows(data)\n",
    "    else:\n",
    "        data=[\n",
    "            [f\"{file_name}\",c.parameters_[0],c.parameters_[1],c.parameters_[2],c.parameters_[3],c.parameters_[4],c.parameters_[5],c.parameters_[6]]\n",
    "        ]\n",
    "        with open(fcsv,\"a\",newline=\"\",encoding='UTF-8') as csv_file:\n",
    "            writer=csv.writer(csv_file)\n",
    "            writer.writerows(data)"
   ]
  },
  {
   "cell_type": "code",
   "execution_count": 41,
   "metadata": {},
   "outputs": [
    {
     "data": {
      "image/png": "[encoded data removed]",
      "text/plain": [
       "<Figure size 640x480 with 1 Axes>"
      ]
     },
     "metadata": {},
     "output_type": "display_data"
    },
    {
     "data": {
      "text/plain": [
       "<sympy.plotting.plot.Plot at 0x1f3fcd62dd0>"
      ]
     },
     "execution_count": 41,
     "metadata": {},
     "output_type": "execute_result"
    }
   ],
   "source": [
    "from sympy import *\n",
    "import numpy\n",
    "a=symbols(\"α\")\n",
    "series(exp(a))\n",
    "eq1=a**3+sin(a**2)+exp(a)+100\n",
    "nsolve(eq1,8)\n",
    "plot(eq1)"
   ]
  }
 ],
 "metadata": {
  "kernelspec": {
   "display_name": "Python 3",
   "language": "python",
   "name": "python3"
  },
  "language_info": {
   "codemirror_mode": {
    "name": "ipython",
    "version": 3
   },
   "file_extension": ".py",
   "mimetype": "text/x-python",
   "name": "python",
   "nbconvert_exporter": "python",
   "pygments_lexer": "ipython3",
   "version": "3.10.11"
  }
 },
 "nbformat": 4,
 "nbformat_minor": 2
}
